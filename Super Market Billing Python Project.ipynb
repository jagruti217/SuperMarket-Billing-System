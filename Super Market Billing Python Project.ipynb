{
 "cells": [
  {
   "cell_type": "code",
   "execution_count": 2,
   "id": "9dab7b7c-bdf8-4077-a774-38050cb63817",
   "metadata": {},
   "outputs": [],
   "source": [
    "products = {\n",
    "    \"Chips\": 20,\n",
    "    \"Cola\": 40,\n",
    "    \"Apples\": 100,\n",
    "    \"Bananas\": 30,\n",
    "    \"Notebook\": 50,\n",
    "    \"Milk\": 60,\n",
    "    \"Bread\": 25,\n",
    "    \"Eggs\": 80,\n",
    "    \"Cheese\": 120,\n",
    "    \"Butter\": 70,\n",
    "    \"Chocolate\": 45,\n",
    "    \"Orange Juice\": 70,\n",
    "    \"Tomatoes\": 35,\n",
    "    \"Cucumbers\": 25,\n",
    "    \"Potatoes\": 40,\n",
    "    \"Carrots\": 30,\n",
    "    \"Shampoo\": 150,\n",
    "    \"Soap\": 35,\n",
    "    \"Toothpaste\": 75,\n",
    "    \"Rice\": 200,\n",
    "    \"Pasta\": 60,\n",
    "    \"Coffee\": 110,\n",
    "    \"Tea\": 70,\n",
    "    \"Sugar\": 50,\n",
    "    \"Salt\": 20,\n",
    "    \"Cooking Oil\": 140,\n",
    "    \"Flour\": 60,\n",
    "    \"Biscuits\": 30,\n",
    "    \"Yogurt\": 45,\n",
    "    \"Ice Cream\": 90\n",
    "}\n"
   ]
  },
  {
   "cell_type": "code",
   "execution_count": null,
   "id": "281d9e76-b720-4e4a-b626-0b843c0e8406",
   "metadata": {
    "scrolled": true
   },
   "outputs": [
    {
     "name": "stdin",
     "output_type": "stream",
     "text": [
      "enter name:  Krishna\n",
      "enter phone number:  8767687879\n"
     ]
    },
    {
     "name": "stdout",
     "output_type": "stream",
     "text": [
      "------------------------------------------------------------\n",
      "enter quantity and price\n"
     ]
    },
    {
     "name": "stdin",
     "output_type": "stream",
     "text": [
      "enter quantity:  3\n",
      "enter item name:  rice\n",
      "do you want to add more items?(yes/no)  yes\n",
      "enter quantity:  4\n",
      "enter item name:  apples\n",
      "do you want to add more items?(yes/no)  yes\n",
      "enter quantity:  3\n",
      "enter item name:  notrbook\n"
     ]
    },
    {
     "name": "stdout",
     "output_type": "stream",
     "text": [
      "try again with the correct spelling\n"
     ]
    },
    {
     "name": "stdin",
     "output_type": "stream",
     "text": [
      "enter item name:  notebook\n",
      "do you want to add more items?(yes/no)  no\n"
     ]
    },
    {
     "name": "stdout",
     "output_type": "stream",
     "text": [
      "------------------------------------------------------------\n",
      "                SUPER MARKET STORE                \n",
      "  Carter Road, Andheri West, Phone: 321-356-401   \n",
      "------------------------------------------------------------\n",
      "------------------------------------------------------------\n",
      "Customer Name     :    Krishna\n",
      "Customer Phone    :    8767687879\n",
      "------------------------------------------------------------\n",
      "Rice : 200 x 3.0\n",
      "Apples : 100 x 4.0\n",
      "Notebook : 50 x 3.0\n",
      "------------------------------------------------------------\n",
      "Total bill        :   ₹ 1150.0\n",
      "Discount Applied  :   0 %OFF\n",
      "Actual Amount     :   ₹ 1150.0\n",
      "\n",
      "------------------------------------------------------------\n",
      "\n",
      "\n",
      "        Thankyou For Shopping with us ^_^         \n",
      "\n",
      "\n",
      "------------------------------------------------------------\n",
      "------------------------------------------------------------\n",
      "\n",
      "\n"
     ]
    },
    {
     "name": "stdin",
     "output_type": "stream",
     "text": [
      "is there a next person in the queue? (yes/no):  yes\n",
      "enter name:  Arjun\n",
      "enter phone number:  657567687\n"
     ]
    },
    {
     "name": "stdout",
     "output_type": "stream",
     "text": [
      "------------------------------------------------------------\n",
      "enter quantity and price\n"
     ]
    },
    {
     "name": "stdin",
     "output_type": "stream",
     "text": [
      "enter quantity:  3\n",
      "enter item name:  soap\n",
      "do you want to add more items?(yes/no)  yes\n",
      "enter quantity:  4\n",
      "enter item name:  cola\n",
      "do you want to add more items?(yes/no)  yes\n",
      "enter quantity:  3\n",
      "enter item name:  flour\n",
      "do you want to add more items?(yes/no)  yes\n",
      "enter quantity:  5\n",
      "enter item name:  cheese\n",
      "do you want to add more items?(yes/no)  no\n"
     ]
    },
    {
     "name": "stdout",
     "output_type": "stream",
     "text": [
      "------------------------------------------------------------\n",
      "                SUPER MARKET STORE                \n",
      "  Carter Road, Andheri West, Phone: 321-356-401   \n",
      "------------------------------------------------------------\n",
      "------------------------------------------------------------\n",
      "Customer Name     :    Arjun\n",
      "Customer Phone    :    657567687\n",
      "------------------------------------------------------------\n",
      "Soap : 35 x 3.0\n",
      "Cola : 40 x 4.0\n",
      "Flour : 60 x 3.0\n",
      "Cheese : 120 x 5.0\n",
      "------------------------------------------------------------\n",
      "Total bill        :   ₹ 1045.0\n",
      "Discount Applied  :   0 %OFF\n",
      "Actual Amount     :   ₹ 1045.0\n",
      "\n",
      "------------------------------------------------------------\n",
      "\n",
      "\n",
      "        Thankyou For Shopping with us ^_^         \n",
      "\n",
      "\n",
      "------------------------------------------------------------\n",
      "------------------------------------------------------------\n",
      "\n",
      "\n"
     ]
    }
   ],
   "source": [
    "while True:\n",
    "    cart = {}\n",
    "    amount = 0\n",
    "    name = input(\"enter name: \").title()\n",
    "    ph_no = input(\"enter phone number: \")\n",
    "    print(\"-\"*60)\n",
    "    print(\"enter quantity and price\")\n",
    "    \n",
    "    while True:\n",
    "        quantity = float(input(\"enter quantity: \"))\n",
    "        while True:\n",
    "            p_name = input(\"enter item name: \").title()\n",
    "            if p_name not in products.keys():\n",
    "                print(\"try again with the correct spelling\")\n",
    "            else:\n",
    "                break\n",
    "        amount += products[p_name] * quantity\n",
    "        cart[p_name] = products[p_name],\"x\",quantity\n",
    "        repeat_item = input(\"do you want to add more items?(yes/no) \").lower()\n",
    "        if repeat_item in [\"no\",\"n\"]:\n",
    "            break\n",
    "    discount = 0\n",
    "    \n",
    "    if amount <= 500:\n",
    "        discount = 0.05\n",
    "        act_amount = amount - (amount* discount)\n",
    "    elif amount <= 1000:\n",
    "        discount = 0.07\n",
    "        act_amount = amount - (amount* discount)\n",
    "    elif amount<= 5000:\n",
    "        distinct = 0.15\n",
    "        act_amount = amount - (amount* discount)\n",
    "    else:\n",
    "        discount = 0.2\n",
    "        act_amount = (amount - discount)\n",
    "        \n",
    "    print(\"-\"*60)\n",
    "\n",
    "    print(\"SUPER MARKET STORE\".center(50))\n",
    "    print(\"Carter Road, Andheri West, Phone: 321-356-401\".center(50))\n",
    "    print(\"-\"*60)\n",
    "    print(\"-\"*60)\n",
    "    \n",
    "    print(\"Customer Name     :   \", name)\n",
    "    print(\"Customer Phone    :   \", ph_no)\n",
    "    print(\"-\"*60)\n",
    "    for i,j in cart.items():\n",
    "        p,x,q = j\n",
    "        print(i, \":\",p,x,q)\n",
    "\n",
    "    print(\"-\"*60)\n",
    "            \n",
    "    print(\"Total bill        :  \", \"₹\",amount)\n",
    "    print(\"Discount Applied  :  \", discount*100, \"%OFF\")\n",
    "    print(\"Actual Amount     :  \", \"₹\",act_amount)\n",
    "    print(\"\")\n",
    "    print(\"-\"*60)\n",
    "    \n",
    "    print (\"\\n\")\n",
    "    print(\"Thankyou For Shopping with us ^_^\".center(50))\n",
    "    print(\"\\n\")\n",
    "    print(\"-\"*60)\n",
    "    print(\"-\"*60)\n",
    "    print(\"\\n\")\n",
    "    next_person = input(\"is there a next person in the queue? (yes/no): \").lower()\n",
    "    if next_person in [\"no\",\"n\"]:\n",
    "        break\n",
    " \n",
    "    \n",
    "    \n"
   ]
  },
  {
   "cell_type": "code",
   "execution_count": null,
   "id": "17c96a38-0c0b-4e01-b84b-e8caf6944147",
   "metadata": {},
   "outputs": [],
   "source": []
  },
  {
   "cell_type": "code",
   "execution_count": null,
   "id": "31a3d54f-2ffa-4bab-a5ff-3cb88d94e65d",
   "metadata": {},
   "outputs": [],
   "source": []
  },
  {
   "cell_type": "code",
   "execution_count": null,
   "id": "bf4c29c9-5bf6-4c18-a1de-82fb6aa2c89c",
   "metadata": {},
   "outputs": [],
   "source": []
  },
  {
   "cell_type": "code",
   "execution_count": null,
   "id": "efc948be-c164-4539-9286-a8de83d56f2e",
   "metadata": {},
   "outputs": [],
   "source": []
  },
  {
   "cell_type": "code",
   "execution_count": null,
   "id": "66caeafc-518c-45b3-9139-2ef08a500549",
   "metadata": {},
   "outputs": [],
   "source": []
  },
  {
   "cell_type": "code",
   "execution_count": null,
   "id": "5e797261-ab3d-4ff7-8b4c-39bb2363774c",
   "metadata": {},
   "outputs": [],
   "source": []
  }
 ],
 "metadata": {
  "kernelspec": {
   "display_name": "Python 3 (ipykernel)",
   "language": "python",
   "name": "python3"
  },
  "language_info": {
   "codemirror_mode": {
    "name": "ipython",
    "version": 3
   },
   "file_extension": ".py",
   "mimetype": "text/x-python",
   "name": "python",
   "nbconvert_exporter": "python",
   "pygments_lexer": "ipython3",
   "version": "3.12.7"
  }
 },
 "nbformat": 4,
 "nbformat_minor": 5
}
